{
  "nbformat": 4,
  "nbformat_minor": 0,
  "metadata": {
    "accelerator": "GPU",
    "colab": {
      "name": "IEEE ETCM UPS.ipynb",
      "provenance": [],
      "collapsed_sections": [],
      "toc_visible": true,
      "mount_file_id": "https://github.com/GermanOmar/ANN1/blob/main/NN1_L2.ipynb",
      "authorship_tag": "ABX9TyMMZSbZ7kESPQ3Ti31ZGA2y",
      "include_colab_link": true
    },
    "kernelspec": {
      "display_name": "Python 3",
      "name": "python3"
    }
  },
  "cells": [
    {
      "cell_type": "markdown",
      "metadata": {
        "id": "view-in-github",
        "colab_type": "text"
      },
      "source": [
        "<a href=\"https://colab.research.google.com/github/GermanOmar/UPS-termoelectrica/blob/master/IEEE_ETCM_UPS.ipynb\" target=\"_parent\"><img src=\"https://colab.research.google.com/assets/colab-badge.svg\" alt=\"Open In Colab\"/></a>"
      ]
    },
    {
      "cell_type": "markdown",
      "metadata": {
        "id": "rqI9VDT0RdWk"
      },
      "source": [
        "# Modelado del proceso de producción de energía en centrales de generación térmica considerando el perfil de funcionamiento"
      ]
    },
    {
      "cell_type": "markdown",
      "metadata": {
        "id": "2OOvQQeg7d0g"
      },
      "source": [
        "<a href=\"https://ibb.co/0cmvG7t\"><img src=\"https://i.ibb.co/XbjMCQ8/Motor-Combustion.png\" WIDTH=\"550\" HEIGHT=\"250\"  border=\"0\"></a>"
      ]
    },
    {
      "cell_type": "markdown",
      "metadata": {
        "id": "3-T6Z2bdRvSm"
      },
      "source": [
        " Libraries"
      ]
    },
    {
      "cell_type": "code",
      "metadata": {
        "id": "ltCb1Iw6Raez"
      },
      "source": [
        "import numpy as np\n",
        "import pandas as pd\n",
        "from matplotlib import pyplot as plt\n",
        "from sklearn import preprocessing\n",
        "from sklearn.utils import shuffle\n",
        "import warnings\n",
        "warnings.filterwarnings(\"ignore\")"
      ],
      "execution_count": 1,
      "outputs": []
    },
    {
      "cell_type": "markdown",
      "metadata": {
        "id": "1Mbfb5c9yu5p"
      },
      "source": [
        " Upload database:"
      ]
    },
    {
      "cell_type": "code",
      "metadata": {
        "colab": {
          "base_uri": "https://localhost:8080/"
        },
        "id": "_V3jfdhPsEKW",
        "outputId": "57dff87c-1ab9-4812-c101-ca2204c31619"
      },
      "source": [
        "!git clone https://github.com/GermanOmar/UPS-termoelectrica"
      ],
      "execution_count": 2,
      "outputs": [
        {
          "output_type": "stream",
          "text": [
            "Cloning into 'UPS-termoelectrica'...\n",
            "remote: Enumerating objects: 9, done.\u001b[K\n",
            "remote: Counting objects: 100% (9/9), done.\u001b[K\n",
            "remote: Compressing objects: 100% (7/7), done.\u001b[K\n",
            "remote: Total 9 (delta 0), reused 0 (delta 0), pack-reused 0\u001b[K\n",
            "Unpacking objects: 100% (9/9), done.\n"
          ],
          "name": "stdout"
        }
      ]
    },
    {
      "cell_type": "code",
      "metadata": {
        "colab": {
          "base_uri": "https://localhost:8080/",
          "height": 284
        },
        "id": "Yx-ovik8xxJx",
        "outputId": "29a29d13-9cd4-416c-8d3a-1cb287d3ef7a"
      },
      "source": [
        "#Experimental data\n",
        "data = pd.read_table('data.txt') \n",
        "data.describe()\n"
      ],
      "execution_count": 3,
      "outputs": [
        {
          "output_type": "execute_result",
          "data": {
            "text/html": [
              "<div>\n",
              "<style scoped>\n",
              "    .dataframe tbody tr th:only-of-type {\n",
              "        vertical-align: middle;\n",
              "    }\n",
              "\n",
              "    .dataframe tbody tr th {\n",
              "        vertical-align: top;\n",
              "    }\n",
              "\n",
              "    .dataframe thead th {\n",
              "        text-align: right;\n",
              "    }\n",
              "</style>\n",
              "<table border=\"1\" class=\"dataframe\">\n",
              "  <thead>\n",
              "    <tr style=\"text-align: right;\">\n",
              "      <th></th>\n",
              "      <th>EN</th>\n",
              "      <th>HFO</th>\n",
              "      <th>DO</th>\n",
              "      <th>LO</th>\n",
              "      <th>R</th>\n",
              "      <th>D</th>\n",
              "    </tr>\n",
              "  </thead>\n",
              "  <tbody>\n",
              "    <tr>\n",
              "      <th>count</th>\n",
              "      <td>365.000000</td>\n",
              "      <td>365.000000</td>\n",
              "      <td>365.000000</td>\n",
              "      <td>365.000000</td>\n",
              "      <td>365.000000</td>\n",
              "      <td>365.000000</td>\n",
              "    </tr>\n",
              "    <tr>\n",
              "      <th>mean</th>\n",
              "      <td>1415.458986</td>\n",
              "      <td>81360.738904</td>\n",
              "      <td>9316.586301</td>\n",
              "      <td>390.683918</td>\n",
              "      <td>15.528603</td>\n",
              "      <td>83.863425</td>\n",
              "    </tr>\n",
              "    <tr>\n",
              "      <th>std</th>\n",
              "      <td>609.091448</td>\n",
              "      <td>38003.304182</td>\n",
              "      <td>6280.347503</td>\n",
              "      <td>473.592114</td>\n",
              "      <td>3.758765</td>\n",
              "      <td>15.000258</td>\n",
              "    </tr>\n",
              "    <tr>\n",
              "      <th>min</th>\n",
              "      <td>0.000000</td>\n",
              "      <td>0.000000</td>\n",
              "      <td>0.000000</td>\n",
              "      <td>0.000000</td>\n",
              "      <td>0.000000</td>\n",
              "      <td>0.000000</td>\n",
              "    </tr>\n",
              "    <tr>\n",
              "      <th>25%</th>\n",
              "      <td>938.650000</td>\n",
              "      <td>49396.900000</td>\n",
              "      <td>5025.300000</td>\n",
              "      <td>65.780000</td>\n",
              "      <td>16.190000</td>\n",
              "      <td>79.320000</td>\n",
              "    </tr>\n",
              "    <tr>\n",
              "      <th>50%</th>\n",
              "      <td>1777.720000</td>\n",
              "      <td>101593.300000</td>\n",
              "      <td>8042.400000</td>\n",
              "      <td>249.790000</td>\n",
              "      <td>16.470000</td>\n",
              "      <td>88.580000</td>\n",
              "    </tr>\n",
              "    <tr>\n",
              "      <th>75%</th>\n",
              "      <td>1827.130000</td>\n",
              "      <td>109785.500000</td>\n",
              "      <td>12294.200000</td>\n",
              "      <td>546.510000</td>\n",
              "      <td>16.650000</td>\n",
              "      <td>91.340000</td>\n",
              "    </tr>\n",
              "    <tr>\n",
              "      <th>max</th>\n",
              "      <td>2034.310000</td>\n",
              "      <td>123914.700000</td>\n",
              "      <td>35895.400000</td>\n",
              "      <td>3234.090000</td>\n",
              "      <td>17.700000</td>\n",
              "      <td>97.110000</td>\n",
              "    </tr>\n",
              "  </tbody>\n",
              "</table>\n",
              "</div>"
            ],
            "text/plain": [
              "                EN            HFO  ...           R           D\n",
              "count   365.000000     365.000000  ...  365.000000  365.000000\n",
              "mean   1415.458986   81360.738904  ...   15.528603   83.863425\n",
              "std     609.091448   38003.304182  ...    3.758765   15.000258\n",
              "min       0.000000       0.000000  ...    0.000000    0.000000\n",
              "25%     938.650000   49396.900000  ...   16.190000   79.320000\n",
              "50%    1777.720000  101593.300000  ...   16.470000   88.580000\n",
              "75%    1827.130000  109785.500000  ...   16.650000   91.340000\n",
              "max    2034.310000  123914.700000  ...   17.700000   97.110000\n",
              "\n",
              "[8 rows x 6 columns]"
            ]
          },
          "metadata": {
            "tags": []
          },
          "execution_count": 3
        }
      ]
    },
    {
      "cell_type": "markdown",
      "metadata": {
        "id": "a8Tc7T1_ibFN"
      },
      "source": [
        "<a href=\"https://ibb.co/qnDpxjg\"><img src=\"https://i.ibb.co/W3Hfs5z/Energia.png\" WIDTH=\"700\" HEIGHT=\"225\"  border=\"0\"></a>"
      ]
    },
    {
      "cell_type": "markdown",
      "metadata": {
        "id": "lFVoj9tfSQJJ"
      },
      "source": [
        "\n",
        "Setting inputs - output:"
      ]
    },
    {
      "cell_type": "code",
      "metadata": {
        "colab": {
          "base_uri": "https://localhost:8080/",
          "height": 418
        },
        "id": "j4RPoTbW_VVs",
        "outputId": "216e21fd-be1d-4333-8c0a-591f0e2ba3e5"
      },
      "source": [
        "fields = [ 'EN', 'HFO','DO', 'LO','R', 'D']\n",
        "import seaborn as sns\n",
        "sns.set()\n",
        "sns.set_theme(style=\"whitegrid\")\n",
        "plt.rcParams[\"axes.grid\"] = False\n",
        "\n",
        "fig = plt.figure()\n",
        "fig.set_size_inches((12,8))\n",
        "for i, field in enumerate(fields):\n",
        "  plt.subplot(3, 3, i + 1)\n",
        "  plt.plot(data[field], data['EN'], 'ro')\n",
        "  plt.xlabel(field)\n",
        "  plt.ylabel('EN')\n",
        "\n",
        "plt.tight_layout()\n",
        "\n",
        "X=data[[ 'HFO','DO', 'LO','R', 'D']]\n",
        "Y=data['EN'][:,None]\n",
        "\n",
        "\n",
        "#fig.tight_layout()"
      ],
      "execution_count": 4,
      "outputs": [
        {
          "output_type": "display_data",
          "data": {
            "image/png": "[encoded data removed]",
            "text/plain": [
              "<Figure size 864x576 with 6 Axes>"
            ]
          },
          "metadata": {
            "tags": []
          }
        }
      ]
    },
    {
      "cell_type": "markdown",
      "metadata": {
        "id": "7o8zckSzFI7O"
      },
      "source": [
        "# Machine learning predictions"
      ]
    },
    {
      "cell_type": "code",
      "metadata": {
        "id": "N9C38QmsAXm-"
      },
      "source": [
        "def normalize(X, X_mu, X_std):\n",
        "  return (X - X_mu)/X_std\n",
        "\n",
        "def denormalize(Xn, X_mu, X_std):\n",
        "  return Xn*X_std + X_mu\n",
        "\n",
        "X_std = X.std(0)\n",
        "X_mu = X.mean(0)\n",
        "Xn = normalize(X, X_mu, X_std)\n",
        "\n",
        "Y_std = Y.std(0)\n",
        "Y_mu = Y.mean(0)\n",
        "Yn = normalize(Y, Y_mu, Y_std)"
      ],
      "execution_count": 5,
      "outputs": []
    },
    {
      "cell_type": "markdown",
      "metadata": {
        "id": "Q6pAiesfTDDU"
      },
      "source": [
        " Split data"
      ]
    },
    {
      "cell_type": "code",
      "metadata": {
        "colab": {
          "base_uri": "https://localhost:8080/"
        },
        "id": "HI3IlTeHTF_Z",
        "outputId": "b47e08a4-4fcf-48f9-9b54-d8b4d54b1764"
      },
      "source": [
        "from sklearn.model_selection import train_test_split\n",
        "\n",
        "X_train, X_test, y_train, y_test = train_test_split(Xn, Yn, test_size=0.2, random_state=1234)\n",
        "print('training samples:', X_train.shape[0],  ' test samples:', X_test.shape[0])"
      ],
      "execution_count": 6,
      "outputs": [
        {
          "output_type": "stream",
          "text": [
            "training samples: 292  test samples: 73\n"
          ],
          "name": "stdout"
        }
      ]
    },
    {
      "cell_type": "markdown",
      "metadata": {
        "id": "7Zk7lMoGhdFO"
      },
      "source": [
        "#Results:"
      ]
    },
    {
      "cell_type": "markdown",
      "metadata": {
        "id": "NL8FawXuyV0d"
      },
      "source": [
        "###GBR "
      ]
    },
    {
      "cell_type": "code",
      "metadata": {
        "colab": {
          "base_uri": "https://localhost:8080/"
        },
        "id": "cGJU9U3RouUl",
        "outputId": "79566a2a-73e9-4fdd-c32c-905f56b27257"
      },
      "source": [
        "from sklearn.ensemble import GradientBoostingRegressor\n",
        "#KERNEL\n",
        "#GBR=GradientBoostingRegressor(n_estimators=100, random_state=0)\n",
        "GBR=GradientBoostingRegressor(n_estimators=2000, random_state=42, learning_rate=0.1 )\n",
        "\n",
        "#START TRAINING\n",
        "GBR.fit(X_train,y_train)\n",
        "#PREDICTION\n",
        "y_pred=GBR.predict(X_test)\n",
        "\n",
        "#EVAL\n",
        "from sklearn.metrics import mean_squared_error as MSE\n",
        "MSE_test = MSE(y_test, y_pred)\n",
        "\n",
        " \n",
        "print(\"-Gradient boosting regressor-\")\n",
        "print(\"-----------------------------\")\n",
        "\n",
        "print('MSE test:', MSE_test)\n",
        "\n",
        "print()\n",
        "\n",
        "from sklearn.metrics import r2_score\n",
        "from sklearn.metrics import mean_absolute_error as MAE \n",
        "\n",
        "#METRICS: R2, RMSE, MAE\n",
        "R2=r2_score(y_test, y_pred)\n",
        "print('R2: ',R2)\n",
        "RMSE = np.sqrt(MSE_test)\n",
        "print(\"RMSE: \", RMSE)\n",
        "MAE = MAE(y_test, y_pred)\n",
        "print(\"MAE: \", MAE)\n",
        "IM=np.sqrt(((1-R2)**2) + (RMSE**2) + (MAE**2) )\n",
        "print(\"IM: \", IM)\n",
        "print()\n"
      ],
      "execution_count": 7,
      "outputs": [
        {
          "output_type": "stream",
          "text": [
            "-Gradient boosting regressor-\n",
            "-----------------------------\n",
            "MSE test: 0.006567522658277126\n",
            "\n",
            "R2:  0.9935916820669487\n",
            "RMSE:  0.08104025332066235\n",
            "MAE:  0.048937955301951504\n",
            "IM:  0.0948868413751032\n",
            "\n"
          ],
          "name": "stdout"
        }
      ]
    },
    {
      "cell_type": "markdown",
      "metadata": {
        "id": "IVHzaa4EkSPe"
      },
      "source": [
        "### GPs"
      ]
    },
    {
      "cell_type": "code",
      "metadata": {
        "colab": {
          "base_uri": "https://localhost:8080/"
        },
        "id": "abeE5km2aix5",
        "outputId": "a693af62-0b25-4839-80b6-c42253b470aa"
      },
      "source": [
        "from sklearn.gaussian_process import GaussianProcessRegressor as GPR\n",
        "from sklearn.gaussian_process.kernels import RBF, ConstantKernel as C\n",
        "kernel = C(1.0, (1e-3, 1e3)) * RBF(10, (1e-2, 1e2))\n",
        " \n",
        "GP=GPR(kernel=kernel, n_restarts_optimizer=20, alpha=0.01, normalize_y=True)\n",
        " \n",
        "#Training\n",
        "GP.fit(X_train,y_train)\n",
        " \n",
        "#Testing\n",
        "y_star_train = GP.predict(X_train)\n",
        "y_pred = GP.predict(X_test)\n",
        " \n",
        "from sklearn.metrics import mean_squared_error\n",
        "MSE_test = mean_squared_error(y_test, y_pred)\n",
        "MSE_train = mean_squared_error(y_train, y_star_train)\n",
        " \n",
        "print(\"Gaussian Process\")\n",
        "print('MSE train:', MSE_train)\n",
        "print('MSE test:', MSE_test)\n",
        "print(\"MSE train < MSE test?\", MSE_train < MSE_test)\n",
        "print()\n",
        "from sklearn.metrics import r2_score\n",
        "R2_train=r2_score(y_train, y_star_train)\n",
        "print('R2_train: ',R2_train)\n",
        "R2_test=r2_score(y_test, y_pred)\n",
        "print('R2_test: ',R2_test)\n",
        "print()\n",
        "\"\"\" \n",
        "RE=100 * abs(y_test - y_pred) / y_test\n",
        "print('Relative error (%): ',RE)\n",
        "\"\"\"\n",
        "from sklearn.metrics import r2_score\n",
        "from sklearn.metrics import mean_absolute_error as MAE \n",
        "#METRICS: R2, RMSE, MAE\n",
        "R2=r2_score(y_test, y_pred)\n",
        "print('R2: ',R2)\n",
        "RMSE = np.sqrt(MSE_test)\n",
        "print(\"RMSE: \", RMSE)\n",
        "MAE = MAE(y_test, y_pred)\n",
        "print(\"MAE: \", MAE)\n",
        "IM=np.sqrt(((1-R2)**2) + (RMSE**2) + (MAE**2) )\n",
        "print(\"IM: \", IM)\n",
        "print()"
      ],
      "execution_count": 8,
      "outputs": [
        {
          "output_type": "stream",
          "text": [
            "Gaussian Process\n",
            "MSE train: 0.0007977612316348554\n",
            "MSE test: 0.0013609218725483246\n",
            "MSE train < MSE test? True\n",
            "\n",
            "R2_train:  0.9991940152277595\n",
            "R2_test:  0.9986720685264265\n",
            "\n",
            "R2:  0.9986720685264265\n",
            "RMSE:  0.036890674601426365\n",
            "MAE:  0.023574533932272743\n",
            "IM:  0.043800044802154145\n",
            "\n"
          ],
          "name": "stdout"
        }
      ]
    },
    {
      "cell_type": "code",
      "metadata": {
        "id": "9WaALqZ9i2Lp"
      },
      "source": [
        ""
      ],
      "execution_count": 8,
      "outputs": []
    },
    {
      "cell_type": "code",
      "metadata": {
        "colab": {
          "base_uri": "https://localhost:8080/",
          "height": 411
        },
        "id": "mcNmiZEGi2c-",
        "outputId": "8e07c0c0-9001-4965-cd70-2705be354c30"
      },
      "source": [
        "models = [   GP, ]\n",
        "labels = [ 'GPs', ]\n",
        "\n",
        "sns.set_theme(style=\"whitegrid\")\n",
        "plt.rcParams[\"axes.grid\"] = False\n",
        "fig = plt.figure()\n",
        "fig.set_size_inches((9,6))\n",
        "\n",
        "for mod, label in zip( models, labels): \n",
        "  y_pred = mod.predict(X_test)\n",
        "  plt.plot(y_test, y_pred, 'o' ,label = label)\n",
        "\n",
        "plt.plot([y_pred.min(), y_pred.max()], [y_pred.min(), y_pred.max()], 'k--')\n",
        "plt.ylabel('Energía neta predecida (MW)')\n",
        "plt.xlabel('Energía neta medida (MW)')\n",
        "plt.legend()  \n",
        "  "
      ],
      "execution_count": 9,
      "outputs": [
        {
          "output_type": "execute_result",
          "data": {
            "text/plain": [
              "<matplotlib.legend.Legend at 0x7fcf7d17b810>"
            ]
          },
          "metadata": {
            "tags": []
          },
          "execution_count": 9
        },
        {
          "output_type": "display_data",
          "data": {
            "image/png": "[encoded data removed]",
            "text/plain": [
              "<Figure size 648x432 with 1 Axes>"
            ]
          },
          "metadata": {
            "tags": []
          }
        }
      ]
    },
    {
      "cell_type": "markdown",
      "metadata": {
        "id": "4kmdzayWwhA9"
      },
      "source": [
        "### RFR"
      ]
    },
    {
      "cell_type": "code",
      "metadata": {
        "colab": {
          "base_uri": "https://localhost:8080/"
        },
        "id": "6kLJ0SSekfuI",
        "outputId": "06a9f2d6-e945-4752-b85f-b3e967643ce1"
      },
      "source": [
        "from sklearn.ensemble import RandomForestRegressor\n",
        "#KERNEL\n",
        "RFR=RandomForestRegressor(n_estimators=2000,max_depth=20)\n",
        "\n",
        "#START TRAINING\n",
        "RFR.fit(X_train,y_train)\n",
        "#PREDICTION\n",
        "y_pred=RFR.predict(X_test)\n",
        "\n",
        "#EVAL\n",
        "from sklearn.metrics import mean_squared_error as MSE\n",
        "MSE_test = MSE(y_test, y_pred)\n",
        "\n",
        "print(\"-----------------------------\")\n",
        "\n",
        "print('MSE test:', MSE_test)\n",
        "\n",
        "print()\n",
        "\n",
        "from sklearn.metrics import r2_score\n",
        "from sklearn.metrics import mean_absolute_error as MAE \n",
        "\n",
        "#METRICS: R2, RMSE, MAE\n",
        "R2=r2_score(y_test, y_pred)\n",
        "print('R2: ',R2)\n",
        "RMSE = np.sqrt(MSE_test)\n",
        "print(\"RMSE: \", RMSE)\n",
        "MAE = MAE(y_test, y_pred)\n",
        "print(\"MAE: \", MAE)\n",
        "IM=np.sqrt(((1-R2)**2) + (RMSE**2) + (MAE**2) )\n",
        "print(\"IM: \", IM)\n",
        "print()"
      ],
      "execution_count": 10,
      "outputs": [
        {
          "output_type": "stream",
          "text": [
            "-----------------------------\n",
            "MSE test: 0.0117108588885615\n",
            "\n",
            "R2:  0.9885730265532592\n",
            "RMSE:  0.1082167218527779\n",
            "MAE:  0.06390442802196962\n",
            "IM:  0.12619512879477207\n",
            "\n"
          ],
          "name": "stdout"
        }
      ]
    },
    {
      "cell_type": "markdown",
      "metadata": {
        "id": "hkMQ_W07zri6"
      },
      "source": [
        "### XGB"
      ]
    },
    {
      "cell_type": "code",
      "metadata": {
        "id": "rLTTuAFyzJeP"
      },
      "source": [
        "import pickle\n",
        "import xgboost as xgb\n",
        "\n",
        "xgbr = xgb.XGBRegressor(verbosity=0, n_estimators=2000, max_depth=20)\n",
        "xgbr.fit(X_train, y_train)\n",
        "y_pred = xgbr.predict(X_test)"
      ],
      "execution_count": 11,
      "outputs": []
    },
    {
      "cell_type": "code",
      "metadata": {
        "colab": {
          "base_uri": "https://localhost:8080/"
        },
        "id": "U12pnMB00Q68",
        "outputId": "c383d398-6ec9-417d-9ba0-ae13581b0dc2"
      },
      "source": [
        "print(xgbr)\n",
        "\n"
      ],
      "execution_count": 12,
      "outputs": [
        {
          "output_type": "stream",
          "text": [
            "XGBRegressor(base_score=0.5, booster='gbtree', colsample_bylevel=1,\n",
            "             colsample_bynode=1, colsample_bytree=1, gamma=0,\n",
            "             importance_type='gain', learning_rate=0.1, max_delta_step=0,\n",
            "             max_depth=20, min_child_weight=1, missing=None, n_estimators=2000,\n",
            "             n_jobs=1, nthread=None, objective='reg:linear', random_state=0,\n",
            "             reg_alpha=0, reg_lambda=1, scale_pos_weight=1, seed=None,\n",
            "             silent=None, subsample=1, verbosity=0)\n"
          ],
          "name": "stdout"
        }
      ]
    },
    {
      "cell_type": "code",
      "metadata": {
        "colab": {
          "base_uri": "https://localhost:8080/"
        },
        "id": "saBkb2to1tVK",
        "outputId": "b851a9e0-38df-4a48-96bd-f54b97e88299"
      },
      "source": [
        "score = xgbr.score(X_test, y_test)  \n",
        "print(\"Training score: \", score)"
      ],
      "execution_count": 13,
      "outputs": [
        {
          "output_type": "stream",
          "text": [
            "Training score:  0.9923647782482805\n"
          ],
          "name": "stdout"
        }
      ]
    },
    {
      "cell_type": "code",
      "metadata": {
        "colab": {
          "base_uri": "https://localhost:8080/"
        },
        "id": "P-auJlXw2D8o",
        "outputId": "02462c0e-f747-493e-a6ca-b9e580616934"
      },
      "source": [
        "print(\"-XGBRegressor -\")\n",
        "print(\"------------------\")\n",
        "\n",
        "#EVAL\n",
        "from sklearn.metrics import mean_squared_error as MSE\n",
        "MSE_test = MSE(y_test, y_pred)\n",
        "\n",
        "print('MSE test:', MSE_test)\n",
        "\n",
        "print()\n",
        "\n",
        "from sklearn.metrics import r2_score\n",
        "from sklearn.metrics import mean_absolute_error as MAE \n",
        "\n",
        "#METRICS: R2, RMSE, MAE\n",
        "R2=r2_score(y_test, y_pred)\n",
        "print('R2: ',R2)\n",
        "RMSE = np.sqrt(MSE_test)\n",
        "print(\"RMSE: \", RMSE)\n",
        "MAE = MAE(y_test, y_pred)\n",
        "print(\"MAE: \", MAE)\n",
        "IM=np.sqrt(((1-R2)**2) + (RMSE**2) + (MAE**2) )\n",
        "print(\"IM: \", IM)\n",
        "print()"
      ],
      "execution_count": 14,
      "outputs": [
        {
          "output_type": "stream",
          "text": [
            "-XGBRegressor -\n",
            "------------------\n",
            "MSE test: 0.007824907000441528\n",
            "\n",
            "R2:  0.9923647782482805\n",
            "RMSE:  0.08845850439862482\n",
            "MAE:  0.05381922743321681\n",
            "IM:  0.10382539599321436\n",
            "\n"
          ],
          "name": "stdout"
        }
      ]
    },
    {
      "cell_type": "markdown",
      "metadata": {
        "id": "utN9o-JVq3Dr"
      },
      "source": [
        "Feature importance"
      ]
    },
    {
      "cell_type": "code",
      "metadata": {
        "colab": {
          "base_uri": "https://localhost:8080/",
          "height": 353
        },
        "id": "F1osRQdxq6Ds",
        "outputId": "db5ef119-1188-411c-a9ad-0ecde469e5a6"
      },
      "source": [
        "# get importance\n",
        "importance = xgbr.feature_importances_\n",
        "# summarize feature importance\n",
        "for i,v in enumerate(importance):\n",
        "\tprint('Feature: %0d, Score: %.5f' % (i,v))\n",
        "# plot feature importance\n",
        "plt.bar([x for x in range(len(importance))], importance)\n",
        "plt.show()"
      ],
      "execution_count": 15,
      "outputs": [
        {
          "output_type": "stream",
          "text": [
            "Feature: 0, Score: 0.96444\n",
            "Feature: 1, Score: 0.02196\n",
            "Feature: 2, Score: 0.00050\n",
            "Feature: 3, Score: 0.00186\n",
            "Feature: 4, Score: 0.01123\n"
          ],
          "name": "stdout"
        },
        {
          "output_type": "display_data",
          "data": {
            "image/png": "[encoded data removed]",
            "text/plain": [
              "<Figure size 432x288 with 1 Axes>"
            ]
          },
          "metadata": {
            "tags": []
          }
        }
      ]
    },
    {
      "cell_type": "markdown",
      "metadata": {
        "id": "obKfFgLjEyPo"
      },
      "source": [
        "### MLP"
      ]
    },
    {
      "cell_type": "code",
      "metadata": {
        "colab": {
          "base_uri": "https://localhost:8080/"
        },
        "id": "OaU1OBfsE1R6",
        "outputId": "d7e9a097-597f-4d6d-90c6-b509adafefdc"
      },
      "source": [
        "from sklearn.neural_network import MLPRegressor\n",
        "\n",
        "MLP = MLPRegressor(hidden_layer_sizes=5,solver='lbfgs',learning_rate='adaptive',activation='relu',random_state=32, max_iter=2000)\n",
        "#MLP = MLPRegressor(hidden_layer_sizes=(1000,1000,1000), activation='relu', solver='adam', max_iter=800)\n",
        "\n",
        "#START TRAINING\n",
        "MLP.fit(X_train,y_train)\n",
        "#PREDICTION\n",
        "y_pred=MLP.predict(X_test)\n",
        "\n",
        "print()\n",
        "\n",
        "from sklearn.metrics import r2_score\n",
        "from sklearn.metrics import mean_absolute_error as MAE \n",
        "\n",
        "#METRICS: R2, RMSE, MAE\n",
        "R2=r2_score(y_test, y_pred)\n",
        "print('R2: ',R2)\n",
        "RMSE = np.sqrt(MSE_test)\n",
        "print(\"RMSE: \", RMSE)\n",
        "MAE = MAE(y_test, y_pred)\n",
        "print(\"MAE: \", MAE)\n",
        "IM=np.sqrt(((1-R2)**2) + (RMSE**2) + (MAE**2) )\n",
        "print(\"IM: \", IM)\n",
        "print()\n"
      ],
      "execution_count": 16,
      "outputs": [
        {
          "output_type": "stream",
          "text": [
            "\n",
            "R2:  0.9998871092410416\n",
            "RMSE:  0.08845850439862482\n",
            "MAE:  0.007529521834960481\n",
            "IM:  0.08877845146108446\n",
            "\n"
          ],
          "name": "stdout"
        }
      ]
    },
    {
      "cell_type": "markdown",
      "metadata": {
        "id": "oRJq52QpHhUv"
      },
      "source": [
        "### Linear SVR"
      ]
    },
    {
      "cell_type": "code",
      "metadata": {
        "colab": {
          "base_uri": "https://localhost:8080/"
        },
        "id": "o6J5DK-5HjxP",
        "outputId": "32a9cea0-d8f2-48c2-92cd-776097334a60"
      },
      "source": [
        "from sklearn.svm import LinearSVR\n",
        "\n",
        "SVR=LinearSVR( random_state=32)\n",
        "\n",
        "#START TRAINING\n",
        "SVR.fit(X_train,y_train)\n",
        "#PREDICTION\n",
        "y_pred=SVR.predict(X_test)\n",
        "print()\n",
        "\n",
        "from sklearn.metrics import r2_score\n",
        "from sklearn.metrics import mean_absolute_error as MAE \n",
        "\n",
        "#METRICS: R2, RMSE, MAE\n",
        "R2=r2_score(y_test, y_pred)\n",
        "print('R2: ',R2)\n",
        "RMSE = np.sqrt(MSE_test)\n",
        "print(\"RMSE: \", RMSE)\n",
        "MAE = MAE(y_test, y_pred)\n",
        "print(\"MAE: \", MAE)\n",
        "IM=np.sqrt(((1-R2)**2) + (RMSE**2) + (MAE**2) )\n",
        "print(\"IM: \", IM)\n",
        "print()\n"
      ],
      "execution_count": 17,
      "outputs": [
        {
          "output_type": "stream",
          "text": [
            "\n",
            "R2:  0.99849485424719\n",
            "RMSE:  0.08845850439862482\n",
            "MAE:  0.025742352282326367\n",
            "IM:  0.09214033408451547\n",
            "\n"
          ],
          "name": "stdout"
        }
      ]
    },
    {
      "cell_type": "markdown",
      "metadata": {
        "id": "ZOYI1QkauabG"
      },
      "source": [
        "# Comparisson"
      ]
    },
    {
      "cell_type": "code",
      "metadata": {
        "colab": {
          "base_uri": "https://localhost:8080/",
          "height": 411
        },
        "id": "fPy9q6RU3ZF2",
        "outputId": "d8f90a9d-e390-4986-9728-daaba16e83b6"
      },
      "source": [
        "models = [ MLP ,  GP, SVR]\n",
        "labels = ['MLP', 'GPs', 'LSVR']\n",
        "\n",
        "sns.set_theme(style=\"whitegrid\")\n",
        "plt.rcParams[\"axes.grid\"] = False\n",
        "fig = plt.figure()\n",
        "fig.set_size_inches((9,6))\n",
        "\n",
        "for mod, label in zip( models, labels): \n",
        "  y_pred = mod.predict(X_test)\n",
        "  plt.plot(y_test, y_pred, 'o' ,label = label)\n",
        "\n",
        "plt.plot([y_pred.min(), y_pred.max()], [y_pred.min(), y_pred.max()], 'k--')\n",
        "plt.ylabel('Energía neta predecida (MW)')\n",
        "plt.xlabel('Energía neta medida (MW)')\n",
        "plt.legend()  \n",
        "  "
      ],
      "execution_count": 18,
      "outputs": [
        {
          "output_type": "execute_result",
          "data": {
            "text/plain": [
              "<matplotlib.legend.Legend at 0x7fcf7a761a90>"
            ]
          },
          "metadata": {
            "tags": []
          },
          "execution_count": 18
        },
        {
          "output_type": "display_data",
          "data": {
            "image/png": "[encoded data removed]",
            "text/plain": [
              "<Figure size 648x432 with 1 Axes>"
            ]
          },
          "metadata": {
            "tags": []
          }
        }
      ]
    },
    {
      "cell_type": "code",
      "metadata": {
        "colab": {
          "base_uri": "https://localhost:8080/",
          "height": 411
        },
        "id": "isfDLIFVXXyd",
        "outputId": "1cec42b8-e283-40bb-a2dd-18103e57ff89"
      },
      "source": [
        "models = [xgbr,  GBR, SVR, GP, MLP, RFR ]\n",
        "labels = ['XGBR',  'GBR', 'LSVR',  'GPs',  'MLP', 'RFR']\n",
        "\n",
        "fig = plt.figure()\n",
        "fig.set_size_inches((9,6))\n",
        "\n",
        "for mod, label in zip( models, labels): \n",
        "  y_pred = mod.predict(X_test)\n",
        "  plt.plot(y_test, y_pred, 'o' ,label = label)\n",
        "\n",
        "plt.plot([y_pred.min(), y_pred.max()], [y_pred.min(), y_pred.max()], 'k--')\n",
        "plt.ylabel('Energía neta predecida (MW)')\n",
        "plt.xlabel('Energía neta medida (MW)')\n",
        "plt.legend()"
      ],
      "execution_count": 19,
      "outputs": [
        {
          "output_type": "execute_result",
          "data": {
            "text/plain": [
              "<matplotlib.legend.Legend at 0x7fcf6848a3d0>"
            ]
          },
          "metadata": {
            "tags": []
          },
          "execution_count": 19
        },
        {
          "output_type": "display_data",
          "data": {
            "image/png": "[encoded data removed]",
            "text/plain": [
              "<Figure size 648x432 with 1 Axes>"
            ]
          },
          "metadata": {
            "tags": []
          }
        }
      ]
    },
    {
      "cell_type": "markdown",
      "metadata": {
        "id": "vaV3ZE0ctxzA"
      },
      "source": [
        "# CROSS-VALIDATION"
      ]
    },
    {
      "cell_type": "code",
      "metadata": {
        "colab": {
          "base_uri": "https://localhost:8080/"
        },
        "id": "lUE93GSRXjoz",
        "outputId": "c0bab056-a7c0-4738-c653-b2f2ce4f22a5"
      },
      "source": [
        "from sklearn.metrics import r2_score\n",
        "from sklearn.metrics import mean_squared_error as MSE\n",
        "from sklearn.metrics import mean_absolute_error \n",
        "from sklearn.model_selection import cross_val_score as CV\n",
        "\n",
        "import warnings\n",
        "warnings.filterwarnings('ignore')\n",
        "\n",
        "models = [xgbr,  GBR, SVR, GP,  MLP, RFR ]\n",
        "labels = ['XGBR',  'GBR', 'LSVR',  'GPs',  'MLP', 'RFR']\n",
        "IMS = []\n",
        "\n",
        "print(\"--------------------------------------------------------------\")\n",
        "print(\"%5s | %5s | %5s | %5s | %5s \" % (\"ML algorithm\",  \"CV-R2\", \"CV-MSE\", \"CV-MAE\", \"IM\"))\n",
        "print(\"--------------------------------------------------------------\")\n",
        "\n",
        "for mod, label in zip( models, labels): \n",
        "  y_star_train = mod.predict(X_train)\n",
        " \n",
        "  scoreR2 = CV(mod, X_train, y_train, cv=5, scoring='r2')\n",
        "  #print(-1*scoreR2)\n",
        "  scoreMSE = CV(mod, X_train, y_train, cv=5, scoring='neg_mean_squared_error')\n",
        "  #print(-1*scoreMSE)\n",
        "  scoreMAE = CV(mod, X_train, y_train, cv=5, scoring='neg_mean_absolute_error')\n",
        "  #print(-1*scoreMAE)\n",
        "  IM=np.sqrt(((1-scoreR2)**2) + (scoreMSE) + (scoreMAE**2) )\n",
        "  #print(\"IM: \", IM)\n",
        "  \n",
        " \n",
        "  print(\"%15s | %.4f | %.4f | %.4f | %.4f \" % (label,  scoreR2.mean(), -1*scoreMSE.mean(), -1*scoreMAE.mean() , np.sqrt(((1-scoreR2.mean())**2) + (-1*scoreMSE.mean()) + (scoreMAE.mean()**2) )))\n",
        "print(\"--------------------------------------------------------------\")"
      ],
      "execution_count": 20,
      "outputs": [
        {
          "output_type": "stream",
          "text": [
            "--------------------------------------------------------------\n",
            "ML algorithm | CV-R2 | CV-MSE | CV-MAE |    IM \n",
            "--------------------------------------------------------------\n",
            "           XGBR | 0.9957 | 0.0041 | 0.0403 | 0.0758 \n",
            "            GBR | 0.9964 | 0.0034 | 0.0366 | 0.0687 \n",
            "           LSVR | 0.9990 | 0.0010 | 0.0217 | 0.0384 \n",
            "            GPs | 0.9991 | 0.0009 | 0.0198 | 0.0353 \n",
            "            MLP | 0.9998 | 0.0002 | 0.0069 | 0.0144 \n",
            "            RFR | 0.9930 | 0.0065 | 0.0460 | 0.0933 \n",
            "--------------------------------------------------------------\n"
          ],
          "name": "stdout"
        }
      ]
    },
    {
      "cell_type": "code",
      "metadata": {
        "id": "AuCGPfKiQI61"
      },
      "source": [
        ""
      ],
      "execution_count": 20,
      "outputs": []
    }
  ]
}